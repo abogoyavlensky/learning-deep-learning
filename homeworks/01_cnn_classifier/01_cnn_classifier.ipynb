{
 "cells": [
  {
   "cell_type": "markdown",
   "metadata": {},
   "source": [
    "# CNN classifier"
   ]
  },
  {
   "cell_type": "markdown",
   "metadata": {},
   "source": [
    "Congratulations, here's your first homework! You'll learn the art of training deep image classifiers. You might remember `03 seminar` about training CIFAR10 classifier, this homework is also about training **CIFAR10 classifier**, but this time you'll have to do it on your own and with some extra features.\n",
    "\n",
    "## Data\n",
    "Your dataset is CIFAR10. Check out `03 seminar` on how to load train and val data splits.\n",
    "\n",
    "**Note:** for training you can only use `train` dataset.\n",
    "\n",
    "## Game rules:\n",
    "Maximum score you can get for this task is **10.0**.\n",
    "\n",
    "Half of 10 points you can get by reaching high val accuracy (as listed in table below):\n",
    "\n",
    "- accuracy > 60.0 -> **1 point**\n",
    "- accuracy > 70.0 -> **2 points**\n",
    "- accuracy > 80.0 -> **3 points**\n",
    "- accuracy > 90.0 -> **4 points**\n",
    "- accuracy > 92.5 -> **5 points**\n",
    "\n",
    "Another half of 10 points you can get by adding following features to your training pipeline. It's okay if you see some technics for the first time (that was the idea). Feel free to google and dive into topic on your own, it's homework after all:\n",
    "1. Data augmentations. Check out [this article](https://medium.com/nanonets/how-to-use-deep-learning-when-you-have-limited-data-part-2-data-augmentation-c26971dc8ced) (**1 point**)\n",
    "2. [LR schedule](https://pytorch.org/docs/stable/optim.html#torch.optim.lr_scheduler.ReduceLROnPlateau) (**0.5 point**)\n",
    "3. Finetune pretrained model from [torchvision.models](https://pytorch.org/docs/stable/torchvision/models.html) (except AlexNet!) (**1 point**)\n",
    "4. Implement [ResNet model](https://medium.com/@14prakash/understanding-and-implementing-architectures-of-resnet-and-resnext-for-state-of-the-art-image-cf51669e1624) (**2 points**)\n",
    "5. Use of [tensorboardX](https://github.com/lanpa/tensorboardX) to monitor training process (**0.5 points**)\n",
    "\n",
    "As a result you have to submit **notebook with working code** (results will be reproduced during homework cheking) and **short report** (write it in the same notebook) about things you tried and what tasks you managed to implement. Good luck and have fun!"
   ]
  },
  {
   "cell_type": "markdown",
   "metadata": {},
   "source": [
    "### Report\n",
    "- accuracy more than 60%\n",
    "- LR schedule\n",
    "- tensorboardx"
   ]
  },
  {
   "cell_type": "code",
   "execution_count": 69,
   "metadata": {},
   "outputs": [],
   "source": [
    "import torch\n",
    "import torchvision\n",
    "import torchvision.transforms as transforms\n",
    "\n",
    "batch_size = 4\n",
    "device = torch.device(\"cuda\") if torch.cuda.is_available() else torch.device(\"cpu\")\n",
    "\n",
    "classes = ('plane', 'car', 'bird', 'cat', 'deer', 'dog', 'frog', 'horse', 'ship', 'truck')\n",
    "\n",
    "transform = transforms.Compose([\n",
    "    transforms.ToTensor(),\n",
    "    transforms.Normalize(mean=[0.485, 0.456, 0.406],\n",
    "                         std=[0.229, 0.224, 0.225])\n",
    "])"
   ]
  },
  {
   "cell_type": "code",
   "execution_count": 70,
   "metadata": {},
   "outputs": [
    {
     "name": "stdout",
     "output_type": "stream",
     "text": [
      "Files already downloaded and verified\n",
      "Files already downloaded and verified\n"
     ]
    }
   ],
   "source": [
    "train_dataset = torchvision.datasets.CIFAR10(\n",
    "    root='./data',\n",
    "    train=True,\n",
    "    download=True,\n",
    "    transform=transform\n",
    ")\n",
    "train_dataloader = torch.utils.data.DataLoader(train_dataset, batch_size=batch_size, shuffle=True, num_workers=2)\n",
    "\n",
    "val_dataset = torchvision.datasets.CIFAR10(\n",
    "    root='./data',\n",
    "    train=False,\n",
    "    download=True,\n",
    "    transform=transform\n",
    ")\n",
    "val_dataloader= torch.utils.data.DataLoader(val_dataset, batch_size=batch_size, shuffle=False, num_workers=2)"
   ]
  },
  {
   "cell_type": "code",
   "execution_count": 71,
   "metadata": {},
   "outputs": [],
   "source": [
    "%matplotlib inline\n",
    "import matplotlib.pyplot as plt\n",
    "import numpy as np\n",
    "\n",
    "\n",
    "def imshow(img):\n",
    "    img = img / 2 + 0.5  # unnormalize\n",
    "    img = img.cpu().numpy()\n",
    "    plt.imshow(np.transpose(img, (1, 2, 0)))\n",
    "    plt.show()\n"
   ]
  },
  {
   "cell_type": "code",
   "execution_count": 72,
   "metadata": {},
   "outputs": [
    {
     "name": "stderr",
     "output_type": "stream",
     "text": [
      "Clipping input data to the valid range for imshow with RGB data ([0..1] for floats or [0..255] for integers).\n"
     ]
    },
    {
     "name": "stdout",
     "output_type": "stream",
     "text": [
      "images.shape = torch.Size([4, 3, 32, 32])\n",
      "labels = tensor([0, 2, 2, 2])\n",
      "labels.shape = torch.Size([4])\n"
     ]
    },
    {
     "data": {
      "image/png": "[encoded data removed]",
      "text/plain": [
       "<Figure size 432x288 with 1 Axes>"
      ]
     },
     "metadata": {
      "needs_background": "light"
     },
     "output_type": "display_data"
    },
    {
     "name": "stdout",
     "output_type": "stream",
     "text": [
      "plane  bird  bird  bird\n"
     ]
    }
   ],
   "source": [
    "# get some random training images\n",
    "images, labels = next(iter(train_dataloader))\n",
    "\n",
    "print(\"images.shape =\", images.shape)\n",
    "\n",
    "print(\"labels =\", labels)\n",
    "print(\"labels.shape =\", labels.shape)\n",
    "\n",
    "# show images\n",
    "imshow(torchvision.utils.make_grid(images))\n",
    "print(' '.join('%5s' % classes[labels[j]] for j in range(batch_size)))"
   ]
  },
  {
   "cell_type": "code",
   "execution_count": 73,
   "metadata": {},
   "outputs": [],
   "source": [
    "import torch.nn as nn\n",
    "import torch.nn.functional as F\n",
    "\n",
    "\n",
    "class SimpleConvNet(nn.Module):\n",
    "    def __init__(self):\n",
    "        super().__init__()\n",
    "        self.conv1 = nn.Conv2d(3, 6, 5, padding=2)\n",
    "        self.conv2 = nn.Conv2d(6, 16, 5, padding=2)\n",
    "        \n",
    "        self.pool = nn.MaxPool2d(2)\n",
    "        \n",
    "        self.l1 = nn.Linear(16 * 8 * 8, 128)\n",
    "        self.l2 = nn.Linear(128, 64)\n",
    "        self.l3 = nn.Linear(64, 10)\n",
    "        \n",
    "    def forward(self, x):\n",
    "        x = F.relu(self.pool(self.conv1(x)))\n",
    "        x = F.relu(self.pool(self.conv2(x)))\n",
    "        \n",
    "        x = x.view(-1, 16 * 8 * 8)\n",
    "        \n",
    "        x = F.relu(self.l1(x))\n",
    "        x = F.relu(self.l2(x))  \n",
    "        x = self.l3(x)\n",
    "        \n",
    "        return x\n",
    "\n",
    "\n",
    "model = SimpleConvNet().to(device)"
   ]
  },
  {
   "cell_type": "code",
   "execution_count": 74,
   "metadata": {},
   "outputs": [],
   "source": [
    "# # Simple DenseNet\n",
    "\n",
    "# class Dense_Block(nn.Module):\n",
    "#     def __init__(self, in_channels):\n",
    "#         super(Dense_Block, self).__init__()\n",
    "\n",
    "#         self.relu = nn.ReLU(inplace=True)\n",
    "#         self.bn = nn.BatchNorm2d(num_features=in_channels)\n",
    "\n",
    "#         self.conv1 = nn.Conv2d(in_channels=in_channels, out_channels=32, \n",
    "#                                kernel_size=3, stride=1, padding=1)\n",
    "#         self.conv2 = nn.Conv2d(in_channels=32, out_channels=32, \n",
    "#                                kernel_size=3, stride=1, padding=1)\n",
    "#         self.conv3 = nn.Conv2d(in_channels=64, out_channels=32, \n",
    "#                                kernel_size=3, stride=1, padding=1)\n",
    "#         self.conv4 = nn.Conv2d(in_channels=96, out_channels=32, \n",
    "#                                kernel_size=3, stride=1, padding=1)\n",
    "#         self.conv5 = nn.Conv2d(in_channels=128, out_channels=32, \n",
    "#                                kernel_size=3, stride=1, padding=1)\n",
    "\n",
    "#     def forward(self, x):\n",
    "#         bn = self.bn(x)\n",
    "#         conv1 = self.relu(self.conv1(bn))\n",
    "\n",
    "#         conv2 = self.relu(self.conv2(conv1))\n",
    "#         c2_dense = self.relu(torch.cat([conv1, conv2], 1))\n",
    "\n",
    "#         conv3 = self.relu(self.conv3(c2_dense))\n",
    "#         c3_dense = self.relu(torch.cat([conv1, conv2, conv3], 1))\n",
    "\n",
    "#         conv4 = self.relu(self.conv4(c3_dense))\n",
    "#         c4_dense = self.relu(torch.cat([conv1, conv2, conv3, conv4], 1))\n",
    "\n",
    "#         conv5 = self.relu(self.conv5(c4_dense))\n",
    "#         c5_dense = self.relu(torch.cat([conv1, conv2, conv3, conv4, conv5], 1))\n",
    "\n",
    "#         return c5_dense\n",
    "\n",
    "# class Transition_Layer(nn.Module):\n",
    "#     def __init__(self, in_channels, out_channels):\n",
    "#         super(Transition_Layer, self).__init__()\n",
    "\n",
    "#         self.relu = nn.ReLU(inplace=True)\n",
    "#         self.bn = nn.BatchNorm2d(num_features=out_channels)\n",
    "#         self.conv = nn.Conv2d(in_channels=in_channels, out_channels=out_channels, \n",
    "#                               kernel_size=1, bias=False)\n",
    "#         self.avg_pool = nn.AvgPool2d(kernel_size=2, stride=2, padding=0)\n",
    "\n",
    "#     def forward(self, x):\n",
    "\n",
    "#         bn = self.bn(self.relu(self.conv(x)))\n",
    "#         out = self.avg_pool(bn)\n",
    "\n",
    "#         return out\n",
    "\n",
    "# class DenseNet(nn.Module):\n",
    "#     def __init__(self, nr_classes):\n",
    "#         super(DenseNet, self).__init__()\n",
    "\n",
    "#         self.lowconv = nn.Conv2d(in_channels=3, out_channels=64, \n",
    "#                                  kernel_size=7, padding=3, bias=False)\n",
    "#         self.relu = nn.ReLU()\n",
    "\n",
    "#         # Make Dense Blocks\n",
    "#         self.denseblock1 = self._make_dense_block(Dense_Block, 64)\n",
    "#         self.denseblock2 = self._make_dense_block(Dense_Block, 128)\n",
    "#         self.denseblock3 = self._make_dense_block(Dense_Block, 128)\n",
    "\n",
    "#         # Make transition Layers\n",
    "#         self.transitionLayer1 = self._make_transition_layer(\n",
    "#             Transition_Layer, in_channels=160, out_channels=128)\n",
    "#         self.transitionLayer2 = self._make_transition_layer(\n",
    "#             Transition_Layer, in_channels=160, out_channels=128)\n",
    "#         self.transitionLayer3 = self._make_transition_layer(\n",
    "#             Transition_Layer, in_channels=160, out_channels=64)\n",
    "\n",
    "#         # Classifier\n",
    "#         self.bn = nn.BatchNorm2d(num_features=64)\n",
    "#         self.pre_classifier = nn.Linear(64 * 4 * 4, 512)\n",
    "#         self.classifier = nn.Linear(512, nr_classes)\n",
    "\n",
    "#     def _make_dense_block(self, block, in_channels):\n",
    "#         layers = []\n",
    "#         layers.append(block(in_channels))\n",
    "#         return nn.Sequential(*layers)\n",
    "\n",
    "#     def _make_transition_layer(self, layer, in_channels, out_channels):\n",
    "#         modules = []\n",
    "#         modules.append(layer(in_channels, out_channels))\n",
    "#         return nn.Sequential(*modules)\n",
    "\n",
    "#     def forward(self, x):\n",
    "#         out = self.relu(self.lowconv(x))\n",
    "\n",
    "#         out = self.denseblock1(out)\n",
    "#         out = self.transitionLayer1(out)\n",
    "\n",
    "#         out = self.denseblock2(out)\n",
    "#         out = self.transitionLayer2(out)\n",
    "\n",
    "#         out = self.denseblock3(out)\n",
    "#         out = self.transitionLayer3(out)\n",
    "\n",
    "#         out = self.bn(out)\n",
    "#         out = out.view(-1, 64 * 4 * 4)\n",
    "\n",
    "#         out = self.pre_classifier(out)\n",
    "#         out = self.classifier(out)\n",
    "\n",
    "#         return out\n",
    "\n",
    "\n",
    "# model = SimpleConvNet().to(device)"
   ]
  },
  {
   "cell_type": "code",
   "execution_count": 75,
   "metadata": {},
   "outputs": [],
   "source": [
    "import torch.optim as optim\n",
    "\n",
    "criterion = nn.CrossEntropyLoss().to(device)\n",
    "opt = optim.SGD(model.parameters(), lr=0.01, momentum=0.9)\n",
    "\n",
    "# scheduler = optim.lr_scheduler.ReduceLROnPlateau(opt, 'min')"
   ]
  },
  {
   "cell_type": "code",
   "execution_count": 76,
   "metadata": {},
   "outputs": [],
   "source": [
    "import os\n",
    "from tensorboardX import SummaryWriter\n",
    "from datetime import datetime\n",
    "\n",
    "experiment_title = \"dense net\"\n",
    "\n",
    "experiment_name = \"{}@{}\".format(experiment_title, datetime.now().strftime(\"%d.%m.%Y-%H:%M:%S\"))\n",
    "writer = SummaryWriter(log_dir=os.path.join(\"./tb\", experiment_name))"
   ]
  },
  {
   "cell_type": "code",
   "execution_count": 77,
   "metadata": {},
   "outputs": [
    {
     "data": {
      "application/vnd.jupyter.widget-view+json": {
       "model_id": "67de8377350f4e80be4c6d9d2e7b8e84",
       "version_major": 2,
       "version_minor": 0
      },
      "text/plain": [
       "HBox(children=(IntProgress(value=0, max=12500), HTML(value='')))"
      ]
     },
     "metadata": {},
     "output_type": "display_data"
    },
    {
     "name": "stdout",
     "output_type": "stream",
     "text": [
      "[epoch 0] loss: 2.11\n"
     ]
    },
    {
     "data": {
      "application/vnd.jupyter.widget-view+json": {
       "model_id": "d85f0ae836f04a1bab07622801c0ff34",
       "version_major": 2,
       "version_minor": 0
      },
      "text/plain": [
       "HBox(children=(IntProgress(value=0, max=12500), HTML(value='')))"
      ]
     },
     "metadata": {},
     "output_type": "display_data"
    },
    {
     "name": "stdout",
     "output_type": "stream",
     "text": [
      "[epoch 1] loss: 2.05\n"
     ]
    }
   ],
   "source": [
    "from tqdm import tqdm_notebook as tqdm\n",
    "\n",
    "n_epoch = 2\n",
    "n_iters_total = 0\n",
    "\n",
    "for epoch in range(n_epoch):  # loop over the dataset multiple times\n",
    "    running_loss = 0.0\n",
    "    for batch in tqdm(train_dataloader):\n",
    "        # get the inputs\n",
    "        image_batch, label_batch = batch\n",
    "        image_batch, label_batch = image_batch.to(device), label_batch.to(device)\n",
    "        \n",
    "        # zero the parameter gradients\n",
    "        opt.zero_grad()\n",
    "\n",
    "        # forward + backward + optimize\n",
    "        outputs = model(image_batch)\n",
    "        loss = criterion(outputs, label_batch)\n",
    "        \n",
    "#         scheduler.step(loss)\n",
    "        \n",
    "        loss.backward()\n",
    "        opt.step()\n",
    "        \n",
    "        running_loss += loss.item()\n",
    "        \n",
    "        # dump statistics\n",
    "        writer.add_scalar(\"train/loss\", loss.item(), global_step=n_iters_total)\n",
    "        n_iters_total += 1\n",
    "        \n",
    "        \n",
    "    print(\"[epoch {}] loss: {:.3}\".format(epoch, running_loss / len(train_dataloader)))"
   ]
  },
  {
   "cell_type": "code",
   "execution_count": 78,
   "metadata": {},
   "outputs": [],
   "source": [
    "# tensorboard --logdir tb"
   ]
  },
  {
   "cell_type": "code",
   "execution_count": 79,
   "metadata": {},
   "outputs": [
    {
     "name": "stderr",
     "output_type": "stream",
     "text": [
      "Clipping input data to the valid range for imshow with RGB data ([0..1] for floats or [0..255] for integers).\n"
     ]
    },
    {
     "data": {
      "image/png": "[encoded data removed]",
      "text/plain": [
       "<Figure size 432x288 with 1 Axes>"
      ]
     },
     "metadata": {
      "needs_background": "light"
     },
     "output_type": "display_data"
    },
    {
     "name": "stdout",
     "output_type": "stream",
     "text": [
      "GroundTruth:    cat  ship  ship plane\n"
     ]
    }
   ],
   "source": [
    "# Test on images\n",
    "image_batch, label_batch = next(iter(val_dataloader))\n",
    "image_batch, label_batch = image_batch.to(device), label_batch.to(device)\n",
    "\n",
    "# print images\n",
    "imshow(torchvision.utils.make_grid(image_batch))\n",
    "print('GroundTruth: ', ' '.join('%5s' % classes[label_batch[j]] for j in range(batch_size)))"
   ]
  },
  {
   "cell_type": "code",
   "execution_count": 80,
   "metadata": {},
   "outputs": [],
   "source": [
    "outputs = model(image_batch)"
   ]
  },
  {
   "cell_type": "code",
   "execution_count": 81,
   "metadata": {},
   "outputs": [
    {
     "name": "stdout",
     "output_type": "stream",
     "text": [
      "Predicted: dog truck ship truck\n"
     ]
    }
   ],
   "source": [
    "predicted = torch.argmax(outputs, dim=1)\n",
    "\n",
    "print(\"Predicted: {}\".format(\" \".join(classes[predicted[j]]for j in range(batch_size))))"
   ]
  },
  {
   "cell_type": "code",
   "execution_count": 82,
   "metadata": {},
   "outputs": [
    {
     "name": "stderr",
     "output_type": "stream",
     "text": [
      "Clipping input data to the valid range for imshow with RGB data ([0..1] for floats or [0..255] for integers).\n"
     ]
    },
    {
     "data": {
      "image/png": "[encoded data removed]",
      "text/plain": [
       "<Figure size 432x288 with 1 Axes>"
      ]
     },
     "metadata": {
      "needs_background": "light"
     },
     "output_type": "display_data"
    },
    {
     "name": "stdout",
     "output_type": "stream",
     "text": [
      "GroundTruth:    cat  ship  ship plane\n"
     ]
    }
   ],
   "source": [
    "# Validate whole model\n",
    "image_batch, label_batch = next(iter(val_dataloader))\n",
    "image_batch, label_batch = image_batch.to(device), label_batch.to(device)\n",
    "\n",
    "# print images\n",
    "imshow(torchvision.utils.make_grid(image_batch))\n",
    "print('GroundTruth: ', ' '.join('%5s' % classes[label_batch[j]] for j in range(batch_size)))"
   ]
  },
  {
   "cell_type": "code",
   "execution_count": 83,
   "metadata": {},
   "outputs": [
    {
     "data": {
      "application/vnd.jupyter.widget-view+json": {
       "model_id": "3984ba1608ad42959f1b5cf66d01c5a3",
       "version_major": 2,
       "version_minor": 0
      },
      "text/plain": [
       "HBox(children=(IntProgress(value=0, max=2500), HTML(value='')))"
      ]
     },
     "metadata": {},
     "output_type": "display_data"
    },
    {
     "name": "stdout",
     "output_type": "stream",
     "text": [
      "Accuracy of the network on the 10000 val images: 20.86%\n"
     ]
    }
   ],
   "source": [
    "model.eval()\n",
    "\n",
    "correct = 0\n",
    "total = 0\n",
    "with torch.no_grad():\n",
    "    for batch in tqdm(val_dataloader):\n",
    "        image_batch, label_batch = batch\n",
    "        image_batch, label_batch = image_batch.to(device), label_batch.to(device)\n",
    "        \n",
    "        outputs = model(image_batch)\n",
    "        predicted = torch.argmax(outputs, dim=1)\n",
    "\n",
    "        total += labels.size(0)\n",
    "        correct += (predicted == label_batch).sum().item()\n",
    "\n",
    "print(\"Accuracy of the network on the 10000 val images: {:.4}%\".format(100 * correct / total))"
   ]
  },
  {
   "cell_type": "code",
   "execution_count": null,
   "metadata": {},
   "outputs": [],
   "source": []
  }
 ],
 "metadata": {
  "kernelspec": {
   "display_name": "Python 3",
   "language": "python",
   "name": "python3"
  },
  "language_info": {
   "codemirror_mode": {
    "name": "ipython",
    "version": 3
   },
   "file_extension": ".py",
   "mimetype": "text/x-python",
   "name": "python",
   "nbconvert_exporter": "python",
   "pygments_lexer": "ipython3",
   "version": "3.7.1"
  }
 },
 "nbformat": 4,
 "nbformat_minor": 2
}
